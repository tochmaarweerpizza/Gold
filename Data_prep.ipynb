{
 "cells": [
  {
   "cell_type": "code",
   "execution_count": 1,
   "metadata": {},
   "outputs": [],
   "source": [
    "import pandas as pd\n",
    "import numpy as np\n",
    "import math"
   ]
  },
  {
   "cell_type": "code",
   "execution_count": 2,
   "metadata": {},
   "outputs": [],
   "source": [
    "df = pd.read_excel('CMO-Historical-Data-Monthly.xlsx', sheet_name = 'Monthly Prices', skiprows = 4)"
   ]
  },
  {
   "cell_type": "markdown",
   "metadata": {},
   "source": [
    "Rename columns (get rid of the comma and put specifications about the commodity between brackets). Drop columns of variables that do not have a current price listed"
   ]
  },
  {
   "cell_type": "code",
   "execution_count": 3,
   "metadata": {},
   "outputs": [],
   "source": [
    "new_colnames = []\n",
    "for colname in df.columns:\n",
    "    if ',' in colname:\n",
    "        splitted_colname = colname.split(',')\n",
    "        new_colname = splitted_colname[0] + ' (' + splitted_colname[1].strip() + ')'\n",
    "        new_colnames.append(new_colname)\n",
    "    else:\n",
    "        new_colnames.append(colname)\n",
    "        "
   ]
  },
  {
   "cell_type": "code",
   "execution_count": 4,
   "metadata": {},
   "outputs": [],
   "source": [
    "df.columns = new_colnames"
   ]
  },
  {
   "cell_type": "code",
   "execution_count": 5,
   "metadata": {},
   "outputs": [],
   "source": [
    "col_selection = df.columns[df.iloc[-1].str.isnumeric().fillna(True)]"
   ]
  },
  {
   "cell_type": "markdown",
   "metadata": {},
   "source": [
    "Create two series:\n",
    "    - A series containing the commodities and the units by which they are measured\n",
    "    - A series containing the commodities and their current prices in US Dollars"
   ]
  },
  {
   "cell_type": "code",
   "execution_count": 6,
   "metadata": {},
   "outputs": [],
   "source": [
    "df_com_units = df[col_selection].iloc[0]\n",
    "df_com_prices = pd.to_numeric(df[col_selection].iloc[-1])"
   ]
  },
  {
   "cell_type": "code",
   "execution_count": 7,
   "metadata": {},
   "outputs": [
    {
     "data": {
      "text/plain": [
       "Crude oil (average)       103.413333\n",
       "Crude oil (Brent)         105.780000\n",
       "Crude oil (Dubai)         102.680000\n",
       "Crude oil (WTI)           101.780000\n",
       "Coal (South African)      302.000000\n",
       "                            ...     \n",
       "Nickel                  33132.740000\n",
       "Zinc                     4360.430000\n",
       "Gold                     1936.860000\n",
       "Platinum                  965.000000\n",
       "Silver                     24.545000\n",
       "Name: 749, Length: 67, dtype: float64"
      ]
     },
     "execution_count": 7,
     "metadata": {},
     "output_type": "execute_result"
    }
   ],
   "source": [
    "df_com_prices"
   ]
  },
  {
   "cell_type": "code",
   "execution_count": 8,
   "metadata": {},
   "outputs": [
    {
     "data": {
      "text/plain": [
       "array(['($/bbl)', '($/mt)', '($/mmbtu)', '(2010=100)', '($/kg)',\n",
       "       '($/cubic meter)', '(cents/sheet)', '($/dmtu)', '($/troy oz)'],\n",
       "      dtype=object)"
      ]
     },
     "execution_count": 8,
     "metadata": {},
     "output_type": "execute_result"
    }
   ],
   "source": [
    "df_com_units.unique()"
   ]
  },
  {
   "cell_type": "code",
   "execution_count": 9,
   "metadata": {},
   "outputs": [],
   "source": [
    "mult_factors_kilo = dict([('($/bbl)', None),\n",
    " ('($/mt)' , 1/1000),\n",
    " ('($/mmbtu)' , None),\n",
    " ('(2010=100)' , None),\n",
    " ('($/kg)' , 1),\n",
    " ('($/cubic meter)',None),\n",
    " ('(cents/sheet)',None),\n",
    " ('($/dmtu)',1/10),\n",
    " ('($/troy oz)',32.1507466)])"
   ]
  },
  {
   "cell_type": "code",
   "execution_count": 10,
   "metadata": {},
   "outputs": [],
   "source": [
    "commodity_conv_kilo = df_com_units.map(mult_factors_kilo)"
   ]
  },
  {
   "cell_type": "code",
   "execution_count": 11,
   "metadata": {},
   "outputs": [],
   "source": [
    "commodity_kilo_price = (commodity_conv_kilo * df_com_prices).dropna()"
   ]
  },
  {
   "cell_type": "code",
   "execution_count": 12,
   "metadata": {},
   "outputs": [
    {
     "data": {
      "text/plain": [
       "Coal (South African)            0.302000\n",
       "Cocoa                           2.455350\n",
       "Coffee (Arabica)                5.854148\n",
       "Coffee (Robusta)                2.291041\n",
       "Tea (avg 3 auctions)            3.266075\n",
       "Tea (Colombo)                   4.166220\n",
       "Tea (Kolkata)                   3.107004\n",
       "Tea (Mombasa)                   2.525000\n",
       "Coconut oil                     2.094610\n",
       "Groundnuts                      1.443750\n",
       "Fish meal                       1.643390\n",
       "Groundnut oil                   2.145250\n",
       "Palm oil                        1.682740\n",
       "Palm kernel oil                 2.064310\n",
       "Soybeans                        0.720790\n",
       "Soybean oil                     1.947510\n",
       "Soybean meal                    0.579450\n",
       "Rapeseed oil                    2.266170\n",
       "Sunflower oil                   2.275760\n",
       "Maize                           0.348167\n",
       "Rice (Thai 5%)                  0.431000\n",
       "Rice (Thai 25%)                 0.429000\n",
       "Rice (Thai A.1)                 0.409060\n",
       "Rice (Viet Namese 5%)           0.402380\n",
       "Wheat (US SRW)                  0.672457\n",
       "Wheat (US HRW)                  0.495280\n",
       "Banana (Europe)                 0.962408\n",
       "Banana (US)                     1.457116\n",
       "Orange                          0.907030\n",
       "Beef                            6.128623\n",
       "Meat (chicken)                  3.674826\n",
       "Shrimps (Mexican)              14.991416\n",
       "Sugar (EU)                      0.353469\n",
       "Sugar (US)                      0.813505\n",
       "Sugar (world)                   0.433428\n",
       "Tobacco (US import u.v.)        4.165658\n",
       "Cotton (A Index)                3.424216\n",
       "Rubber (TSR20)                  1.702700\n",
       "Rubber (SGP/MYS)                2.094400\n",
       "Phosphate rock                  0.249500\n",
       "DAP                             0.954000\n",
       "TSP                             0.856000\n",
       "Urea                            0.925000\n",
       "Potassium chloride              0.562500\n",
       "Aluminum                        3.244410\n",
       "Iron ore (cfr spot)            15.125000\n",
       "Copper                         10.161380\n",
       "Lead                            2.380410\n",
       "Tin                            42.991110\n",
       "Nickel                         33.132740\n",
       "Zinc                            4.360430\n",
       "Gold                        62271.495060\n",
       "Platinum                    31025.470469\n",
       "Silver                        789.140075\n",
       "dtype: float64"
      ]
     },
     "execution_count": 12,
     "metadata": {},
     "output_type": "execute_result"
    }
   ],
   "source": [
    "commodity_kilo_price"
   ]
  },
  {
   "cell_type": "markdown",
   "metadata": {},
   "source": [
    "Write the commodity kilo price to csv, to make sure we have to to the data cleaning step just once."
   ]
  },
  {
   "cell_type": "code",
   "execution_count": 13,
   "metadata": {},
   "outputs": [],
   "source": [
    "commodity_kilo_price.to_csv('commodities_price_kilogram.csv')"
   ]
  }
 ],
 "metadata": {
  "kernelspec": {
   "display_name": "Python 3 (ipykernel)",
   "language": "python",
   "name": "python3"
  },
  "language_info": {
   "codemirror_mode": {
    "name": "ipython",
    "version": 3
   },
   "file_extension": ".py",
   "mimetype": "text/x-python",
   "name": "python",
   "nbconvert_exporter": "python",
   "pygments_lexer": "ipython3",
   "version": "3.8.8"
  }
 },
 "nbformat": 4,
 "nbformat_minor": 4
}
